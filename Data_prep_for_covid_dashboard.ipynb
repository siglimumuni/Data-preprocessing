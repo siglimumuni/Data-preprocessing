{
  "nbformat": 4,
  "nbformat_minor": 0,
  "metadata": {
    "colab": {
      "name": "Data prep for covid dashboard.ipynb",
      "provenance": []
    },
    "kernelspec": {
      "name": "python3",
      "display_name": "Python 3"
    },
    "language_info": {
      "name": "python"
    }
  },
  "cells": [
    {
      "cell_type": "markdown",
      "metadata": {
        "id": "1rR3rDFrDXXC"
      },
      "source": [
        "##Import relevant libraries"
      ]
    },
    {
      "cell_type": "code",
      "metadata": {
        "id": "pEkeC6TFUup_"
      },
      "source": [
        "import numpy as np\n",
        "import pandas as pd"
      ],
      "execution_count": 44,
      "outputs": []
    },
    {
      "cell_type": "markdown",
      "metadata": {
        "id": "bEpxL3CvDhNF"
      },
      "source": [
        "##Observing the dataset"
      ]
    },
    {
      "cell_type": "code",
      "metadata": {
        "id": "ursuNG2TUz3D"
      },
      "source": [
        "#Using the locations.csv file, we will create a dataframe and assign it to the variable vaccines.\n",
        "vaccines = pd.read_csv(\"https://raw.githubusercontent.com/siglimumuni/Datasets/master/Covid/locations.csv\")"
      ],
      "execution_count": 45,
      "outputs": []
    },
    {
      "cell_type": "code",
      "metadata": {
        "colab": {
          "base_uri": "https://localhost:8080/",
          "height": 204
        },
        "id": "4rzJWAhPU4lX",
        "outputId": "af2ebc25-cf85-4fb5-b104-439a123db818"
      },
      "source": [
        "#Next, we check the first 5 rows of our dataframe for a quick look at the structure.\n",
        "vaccines.head()"
      ],
      "execution_count": 46,
      "outputs": [
        {
          "output_type": "execute_result",
          "data": {
            "text/html": [
              "<div>\n",
              "<style scoped>\n",
              "    .dataframe tbody tr th:only-of-type {\n",
              "        vertical-align: middle;\n",
              "    }\n",
              "\n",
              "    .dataframe tbody tr th {\n",
              "        vertical-align: top;\n",
              "    }\n",
              "\n",
              "    .dataframe thead th {\n",
              "        text-align: right;\n",
              "    }\n",
              "</style>\n",
              "<table border=\"1\" class=\"dataframe\">\n",
              "  <thead>\n",
              "    <tr style=\"text-align: right;\">\n",
              "      <th></th>\n",
              "      <th>location</th>\n",
              "      <th>iso_code</th>\n",
              "      <th>vaccines</th>\n",
              "      <th>last_observation_date</th>\n",
              "      <th>source_name</th>\n",
              "      <th>source_website</th>\n",
              "    </tr>\n",
              "  </thead>\n",
              "  <tbody>\n",
              "    <tr>\n",
              "      <th>0</th>\n",
              "      <td>Afghanistan</td>\n",
              "      <td>AFG</td>\n",
              "      <td>BBIBP-CorV, Oxford/AstraZeneca, Pfizer/BioNTech</td>\n",
              "      <td>2021-06-14</td>\n",
              "      <td>World Health Organization</td>\n",
              "      <td>https://covid19.who.int/</td>\n",
              "    </tr>\n",
              "    <tr>\n",
              "      <th>1</th>\n",
              "      <td>Albania</td>\n",
              "      <td>ALB</td>\n",
              "      <td>Oxford/AstraZeneca, Pfizer/BioNTech, Sinovac, ...</td>\n",
              "      <td>2021-06-14</td>\n",
              "      <td>Ministry of Health</td>\n",
              "      <td>https://shendetesia.gov.al/vaksinimi-anticovid...</td>\n",
              "    </tr>\n",
              "    <tr>\n",
              "      <th>2</th>\n",
              "      <td>Algeria</td>\n",
              "      <td>DZA</td>\n",
              "      <td>Oxford/AstraZeneca, Sputnik V</td>\n",
              "      <td>2021-06-06</td>\n",
              "      <td>Ministry of Health</td>\n",
              "      <td>https://english.aawsat.com/home/article/301347...</td>\n",
              "    </tr>\n",
              "    <tr>\n",
              "      <th>3</th>\n",
              "      <td>Andorra</td>\n",
              "      <td>AND</td>\n",
              "      <td>Oxford/AstraZeneca, Pfizer/BioNTech</td>\n",
              "      <td>2021-06-07</td>\n",
              "      <td>Government of Andorra</td>\n",
              "      <td>https://www.govern.ad/covid19_newsletter/</td>\n",
              "    </tr>\n",
              "    <tr>\n",
              "      <th>4</th>\n",
              "      <td>Angola</td>\n",
              "      <td>AGO</td>\n",
              "      <td>Oxford/AstraZeneca</td>\n",
              "      <td>2021-06-15</td>\n",
              "      <td>World Health Organization</td>\n",
              "      <td>https://covid19.who.int/</td>\n",
              "    </tr>\n",
              "  </tbody>\n",
              "</table>\n",
              "</div>"
            ],
            "text/plain": [
              "      location  ...                                     source_website\n",
              "0  Afghanistan  ...                           https://covid19.who.int/\n",
              "1      Albania  ...  https://shendetesia.gov.al/vaksinimi-anticovid...\n",
              "2      Algeria  ...  https://english.aawsat.com/home/article/301347...\n",
              "3      Andorra  ...          https://www.govern.ad/covid19_newsletter/\n",
              "4       Angola  ...                           https://covid19.who.int/\n",
              "\n",
              "[5 rows x 6 columns]"
            ]
          },
          "metadata": {
            "tags": []
          },
          "execution_count": 46
        }
      ]
    },
    {
      "cell_type": "code",
      "metadata": {
        "colab": {
          "base_uri": "https://localhost:8080/"
        },
        "id": "hVo6ZgD8ERT4",
        "outputId": "226edd16-ac53-4656-875b-201612aba64b"
      },
      "source": [
        "#Using the .info() method, we can look up more specific information about the dataset. \n",
        "vaccines.info()"
      ],
      "execution_count": 47,
      "outputs": [
        {
          "output_type": "stream",
          "text": [
            "<class 'pandas.core.frame.DataFrame'>\n",
            "RangeIndex: 216 entries, 0 to 215\n",
            "Data columns (total 6 columns):\n",
            " #   Column                 Non-Null Count  Dtype \n",
            "---  ------                 --------------  ----- \n",
            " 0   location               216 non-null    object\n",
            " 1   iso_code               216 non-null    object\n",
            " 2   vaccines               216 non-null    object\n",
            " 3   last_observation_date  216 non-null    object\n",
            " 4   source_name            216 non-null    object\n",
            " 5   source_website         216 non-null    object\n",
            "dtypes: object(6)\n",
            "memory usage: 10.2+ KB\n"
          ],
          "name": "stdout"
        }
      ]
    },
    {
      "cell_type": "markdown",
      "metadata": {
        "id": "56i7ejOiE23Y"
      },
      "source": [
        "##Cleaning the dataset"
      ]
    },
    {
      "cell_type": "code",
      "metadata": {
        "id": "KaG1vz6vU6d0"
      },
      "source": [
        "#We can begin by dropping the columns we don't need.\n",
        "vaccines.drop(['last_observation_date','source_name','source_website'],axis=1,inplace=True)"
      ],
      "execution_count": 48,
      "outputs": []
    },
    {
      "cell_type": "code",
      "metadata": {
        "colab": {
          "base_uri": "https://localhost:8080/",
          "height": 204
        },
        "id": "PIfEtepgVhZc",
        "outputId": "d13d1e70-eda0-476b-cad7-ec93a10dfe5c"
      },
      "source": [
        "vaccines.head()\n"
      ],
      "execution_count": 49,
      "outputs": [
        {
          "output_type": "execute_result",
          "data": {
            "text/html": [
              "<div>\n",
              "<style scoped>\n",
              "    .dataframe tbody tr th:only-of-type {\n",
              "        vertical-align: middle;\n",
              "    }\n",
              "\n",
              "    .dataframe tbody tr th {\n",
              "        vertical-align: top;\n",
              "    }\n",
              "\n",
              "    .dataframe thead th {\n",
              "        text-align: right;\n",
              "    }\n",
              "</style>\n",
              "<table border=\"1\" class=\"dataframe\">\n",
              "  <thead>\n",
              "    <tr style=\"text-align: right;\">\n",
              "      <th></th>\n",
              "      <th>location</th>\n",
              "      <th>iso_code</th>\n",
              "      <th>vaccines</th>\n",
              "    </tr>\n",
              "  </thead>\n",
              "  <tbody>\n",
              "    <tr>\n",
              "      <th>0</th>\n",
              "      <td>Afghanistan</td>\n",
              "      <td>AFG</td>\n",
              "      <td>BBIBP-CorV, Oxford/AstraZeneca, Pfizer/BioNTech</td>\n",
              "    </tr>\n",
              "    <tr>\n",
              "      <th>1</th>\n",
              "      <td>Albania</td>\n",
              "      <td>ALB</td>\n",
              "      <td>Oxford/AstraZeneca, Pfizer/BioNTech, Sinovac, ...</td>\n",
              "    </tr>\n",
              "    <tr>\n",
              "      <th>2</th>\n",
              "      <td>Algeria</td>\n",
              "      <td>DZA</td>\n",
              "      <td>Oxford/AstraZeneca, Sputnik V</td>\n",
              "    </tr>\n",
              "    <tr>\n",
              "      <th>3</th>\n",
              "      <td>Andorra</td>\n",
              "      <td>AND</td>\n",
              "      <td>Oxford/AstraZeneca, Pfizer/BioNTech</td>\n",
              "    </tr>\n",
              "    <tr>\n",
              "      <th>4</th>\n",
              "      <td>Angola</td>\n",
              "      <td>AGO</td>\n",
              "      <td>Oxford/AstraZeneca</td>\n",
              "    </tr>\n",
              "  </tbody>\n",
              "</table>\n",
              "</div>"
            ],
            "text/plain": [
              "      location iso_code                                           vaccines\n",
              "0  Afghanistan      AFG    BBIBP-CorV, Oxford/AstraZeneca, Pfizer/BioNTech\n",
              "1      Albania      ALB  Oxford/AstraZeneca, Pfizer/BioNTech, Sinovac, ...\n",
              "2      Algeria      DZA                      Oxford/AstraZeneca, Sputnik V\n",
              "3      Andorra      AND                Oxford/AstraZeneca, Pfizer/BioNTech\n",
              "4       Angola      AGO                                 Oxford/AstraZeneca"
            ]
          },
          "metadata": {
            "tags": []
          },
          "execution_count": 49
        }
      ]
    },
    {
      "cell_type": "markdown",
      "metadata": {
        "id": "_C0Ysa6eFzvp"
      },
      "source": [
        "####The vaccine list per country is bundled in one column, making it hard to analyze. We can create dummy variables by assigning a column to each vaccine. For each row (country), we can then assign a 1 or 0 under each vaccine, depending on whether or not that vaccine has been in use."
      ]
    },
    {
      "cell_type": "code",
      "metadata": {
        "id": "dnqTw43YViqJ"
      },
      "source": [
        "#First we extract a complete list of vaccines. For simplicity sake, we will combine the Sinopharm/Beijing,Sinopharm/Wuhan and Sinopharm/HayatVax vaccines\n",
        "# under 'Sinopharm'\n",
        "vaccines_list = ['BBIBP-CorV','Oxford/AstraZeneca','Sinovac','SputnikV','Sinopharm','Pfizer/BioNTech',\n",
        "                 'Johnson&Johnson','Moderna','Covaxin','CanSino','Abdala','Soberana02','QazVac','EpiVacCorona','RBD-Dimer']\n"
      ],
      "execution_count": 50,
      "outputs": []
    },
    {
      "cell_type": "code",
      "metadata": {
        "id": "-5cqcoyWYGty"
      },
      "source": [
        "#We create a custom function. This will be used to add the relevant columns to our dataset.\n",
        "def createcolumns(columnlist):\n",
        "  for vac in columnlist:\n",
        "    vaccines[vac] = 0"
      ],
      "execution_count": 51,
      "outputs": []
    },
    {
      "cell_type": "code",
      "metadata": {
        "id": "0rMdhMU6axaQ"
      },
      "source": [
        "#Apply the function to our dataset\n",
        "createcolumns(vaccines_list)"
      ],
      "execution_count": 52,
      "outputs": []
    },
    {
      "cell_type": "code",
      "metadata": {
        "colab": {
          "base_uri": "https://localhost:8080/",
          "height": 343
        },
        "id": "p6AAjWQ3a0_O",
        "outputId": "63f3119f-f68a-4e2b-f9c2-be04d36c356d"
      },
      "source": [
        "#All relevant columns have been added with initial variables set to 0.\n",
        "vaccines.head()"
      ],
      "execution_count": 53,
      "outputs": [
        {
          "output_type": "execute_result",
          "data": {
            "text/html": [
              "<div>\n",
              "<style scoped>\n",
              "    .dataframe tbody tr th:only-of-type {\n",
              "        vertical-align: middle;\n",
              "    }\n",
              "\n",
              "    .dataframe tbody tr th {\n",
              "        vertical-align: top;\n",
              "    }\n",
              "\n",
              "    .dataframe thead th {\n",
              "        text-align: right;\n",
              "    }\n",
              "</style>\n",
              "<table border=\"1\" class=\"dataframe\">\n",
              "  <thead>\n",
              "    <tr style=\"text-align: right;\">\n",
              "      <th></th>\n",
              "      <th>location</th>\n",
              "      <th>iso_code</th>\n",
              "      <th>vaccines</th>\n",
              "      <th>BBIBP-CorV</th>\n",
              "      <th>Oxford/AstraZeneca</th>\n",
              "      <th>Sinovac</th>\n",
              "      <th>SputnikV</th>\n",
              "      <th>Sinopharm</th>\n",
              "      <th>Pfizer/BioNTech</th>\n",
              "      <th>Johnson&amp;Johnson</th>\n",
              "      <th>Moderna</th>\n",
              "      <th>Covaxin</th>\n",
              "      <th>CanSino</th>\n",
              "      <th>Abdala</th>\n",
              "      <th>Soberana02</th>\n",
              "      <th>QazVac</th>\n",
              "      <th>EpiVacCorona</th>\n",
              "      <th>RBD-Dimer</th>\n",
              "    </tr>\n",
              "  </thead>\n",
              "  <tbody>\n",
              "    <tr>\n",
              "      <th>0</th>\n",
              "      <td>Afghanistan</td>\n",
              "      <td>AFG</td>\n",
              "      <td>BBIBP-CorV, Oxford/AstraZeneca, Pfizer/BioNTech</td>\n",
              "      <td>0</td>\n",
              "      <td>0</td>\n",
              "      <td>0</td>\n",
              "      <td>0</td>\n",
              "      <td>0</td>\n",
              "      <td>0</td>\n",
              "      <td>0</td>\n",
              "      <td>0</td>\n",
              "      <td>0</td>\n",
              "      <td>0</td>\n",
              "      <td>0</td>\n",
              "      <td>0</td>\n",
              "      <td>0</td>\n",
              "      <td>0</td>\n",
              "      <td>0</td>\n",
              "    </tr>\n",
              "    <tr>\n",
              "      <th>1</th>\n",
              "      <td>Albania</td>\n",
              "      <td>ALB</td>\n",
              "      <td>Oxford/AstraZeneca, Pfizer/BioNTech, Sinovac, ...</td>\n",
              "      <td>0</td>\n",
              "      <td>0</td>\n",
              "      <td>0</td>\n",
              "      <td>0</td>\n",
              "      <td>0</td>\n",
              "      <td>0</td>\n",
              "      <td>0</td>\n",
              "      <td>0</td>\n",
              "      <td>0</td>\n",
              "      <td>0</td>\n",
              "      <td>0</td>\n",
              "      <td>0</td>\n",
              "      <td>0</td>\n",
              "      <td>0</td>\n",
              "      <td>0</td>\n",
              "    </tr>\n",
              "    <tr>\n",
              "      <th>2</th>\n",
              "      <td>Algeria</td>\n",
              "      <td>DZA</td>\n",
              "      <td>Oxford/AstraZeneca, Sputnik V</td>\n",
              "      <td>0</td>\n",
              "      <td>0</td>\n",
              "      <td>0</td>\n",
              "      <td>0</td>\n",
              "      <td>0</td>\n",
              "      <td>0</td>\n",
              "      <td>0</td>\n",
              "      <td>0</td>\n",
              "      <td>0</td>\n",
              "      <td>0</td>\n",
              "      <td>0</td>\n",
              "      <td>0</td>\n",
              "      <td>0</td>\n",
              "      <td>0</td>\n",
              "      <td>0</td>\n",
              "    </tr>\n",
              "    <tr>\n",
              "      <th>3</th>\n",
              "      <td>Andorra</td>\n",
              "      <td>AND</td>\n",
              "      <td>Oxford/AstraZeneca, Pfizer/BioNTech</td>\n",
              "      <td>0</td>\n",
              "      <td>0</td>\n",
              "      <td>0</td>\n",
              "      <td>0</td>\n",
              "      <td>0</td>\n",
              "      <td>0</td>\n",
              "      <td>0</td>\n",
              "      <td>0</td>\n",
              "      <td>0</td>\n",
              "      <td>0</td>\n",
              "      <td>0</td>\n",
              "      <td>0</td>\n",
              "      <td>0</td>\n",
              "      <td>0</td>\n",
              "      <td>0</td>\n",
              "    </tr>\n",
              "    <tr>\n",
              "      <th>4</th>\n",
              "      <td>Angola</td>\n",
              "      <td>AGO</td>\n",
              "      <td>Oxford/AstraZeneca</td>\n",
              "      <td>0</td>\n",
              "      <td>0</td>\n",
              "      <td>0</td>\n",
              "      <td>0</td>\n",
              "      <td>0</td>\n",
              "      <td>0</td>\n",
              "      <td>0</td>\n",
              "      <td>0</td>\n",
              "      <td>0</td>\n",
              "      <td>0</td>\n",
              "      <td>0</td>\n",
              "      <td>0</td>\n",
              "      <td>0</td>\n",
              "      <td>0</td>\n",
              "      <td>0</td>\n",
              "    </tr>\n",
              "  </tbody>\n",
              "</table>\n",
              "</div>"
            ],
            "text/plain": [
              "      location iso_code  ... EpiVacCorona  RBD-Dimer\n",
              "0  Afghanistan      AFG  ...            0          0\n",
              "1      Albania      ALB  ...            0          0\n",
              "2      Algeria      DZA  ...            0          0\n",
              "3      Andorra      AND  ...            0          0\n",
              "4       Angola      AGO  ...            0          0\n",
              "\n",
              "[5 rows x 18 columns]"
            ]
          },
          "metadata": {
            "tags": []
          },
          "execution_count": 53
        }
      ]
    },
    {
      "cell_type": "markdown",
      "metadata": {
        "id": "taS_-clEHab_"
      },
      "source": [
        "####Next, for each country, we would need to assign a 1 to every vaccine which is in use in that country. This would involve a few steps."
      ]
    },
    {
      "cell_type": "code",
      "metadata": {
        "id": "WF9romgea2kc"
      },
      "source": [
        "#First, we need to remove all white spaces under the vaccines column.\n",
        "vaccines['vaccines'] = vaccines['vaccines'].str.replace(' ','')"
      ],
      "execution_count": 54,
      "outputs": []
    },
    {
      "cell_type": "code",
      "metadata": {
        "id": "O_hi-yE8kDdB"
      },
      "source": [
        "#Then we need to combine all Sinopharm vaccines under the common umbrella 'Sinopharm'.\n",
        "vaccines['vaccines'] = vaccines['vaccines'].str.replace('Sinopharm/Beijing','Sinopharm')\n",
        "vaccines['vaccines'] = vaccines['vaccines'].str.replace('Sinopharm/Wuhan','Sinopharm')\n",
        "vaccines['vaccines'] = vaccines['vaccines'].str.replace('Sinopharm/HayatVax','Sinopharm')"
      ],
      "execution_count": 55,
      "outputs": []
    },
    {
      "cell_type": "code",
      "metadata": {
        "colab": {
          "base_uri": "https://localhost:8080/"
        },
        "id": "s5nuyvS0eiQt",
        "outputId": "453a4c4e-8683-470b-c662-13303f221128"
      },
      "source": [
        "#Finally, using a nested for loop, we assign a 1 for all relevant countries per vaccine in the dataset.\n",
        "for i in range(len(vaccines)):\n",
        "  for vac in vaccines['vaccines'].iloc[i].split(','):\n",
        "    vaccines[vac].iloc[i] = 1"
      ],
      "execution_count": 56,
      "outputs": [
        {
          "output_type": "stream",
          "text": [
            "/usr/local/lib/python3.7/dist-packages/pandas/core/indexing.py:670: SettingWithCopyWarning: \n",
            "A value is trying to be set on a copy of a slice from a DataFrame\n",
            "\n",
            "See the caveats in the documentation: https://pandas.pydata.org/pandas-docs/stable/user_guide/indexing.html#returning-a-view-versus-a-copy\n",
            "  iloc._setitem_with_indexer(indexer, value)\n"
          ],
          "name": "stderr"
        }
      ]
    },
    {
      "cell_type": "code",
      "metadata": {
        "colab": {
          "base_uri": "https://localhost:8080/",
          "height": 241
        },
        "id": "ALPznfDGdW56",
        "outputId": "b2c85a0b-59ab-44a6-f577-22f19507dc67"
      },
      "source": [
        "#All relevant 1s have been assigned.\n",
        "vaccines.head()"
      ],
      "execution_count": 57,
      "outputs": [
        {
          "output_type": "execute_result",
          "data": {
            "text/html": [
              "<div>\n",
              "<style scoped>\n",
              "    .dataframe tbody tr th:only-of-type {\n",
              "        vertical-align: middle;\n",
              "    }\n",
              "\n",
              "    .dataframe tbody tr th {\n",
              "        vertical-align: top;\n",
              "    }\n",
              "\n",
              "    .dataframe thead th {\n",
              "        text-align: right;\n",
              "    }\n",
              "</style>\n",
              "<table border=\"1\" class=\"dataframe\">\n",
              "  <thead>\n",
              "    <tr style=\"text-align: right;\">\n",
              "      <th></th>\n",
              "      <th>location</th>\n",
              "      <th>iso_code</th>\n",
              "      <th>vaccines</th>\n",
              "      <th>BBIBP-CorV</th>\n",
              "      <th>Oxford/AstraZeneca</th>\n",
              "      <th>Sinovac</th>\n",
              "      <th>SputnikV</th>\n",
              "      <th>Sinopharm</th>\n",
              "      <th>Pfizer/BioNTech</th>\n",
              "      <th>Johnson&amp;Johnson</th>\n",
              "      <th>Moderna</th>\n",
              "      <th>Covaxin</th>\n",
              "      <th>CanSino</th>\n",
              "      <th>Abdala</th>\n",
              "      <th>Soberana02</th>\n",
              "      <th>QazVac</th>\n",
              "      <th>EpiVacCorona</th>\n",
              "      <th>RBD-Dimer</th>\n",
              "    </tr>\n",
              "  </thead>\n",
              "  <tbody>\n",
              "    <tr>\n",
              "      <th>0</th>\n",
              "      <td>Afghanistan</td>\n",
              "      <td>AFG</td>\n",
              "      <td>BBIBP-CorV,Oxford/AstraZeneca,Pfizer/BioNTech</td>\n",
              "      <td>1</td>\n",
              "      <td>1</td>\n",
              "      <td>0</td>\n",
              "      <td>0</td>\n",
              "      <td>0</td>\n",
              "      <td>1</td>\n",
              "      <td>0</td>\n",
              "      <td>0</td>\n",
              "      <td>0</td>\n",
              "      <td>0</td>\n",
              "      <td>0</td>\n",
              "      <td>0</td>\n",
              "      <td>0</td>\n",
              "      <td>0</td>\n",
              "      <td>0</td>\n",
              "    </tr>\n",
              "    <tr>\n",
              "      <th>1</th>\n",
              "      <td>Albania</td>\n",
              "      <td>ALB</td>\n",
              "      <td>Oxford/AstraZeneca,Pfizer/BioNTech,Sinovac,Spu...</td>\n",
              "      <td>0</td>\n",
              "      <td>1</td>\n",
              "      <td>1</td>\n",
              "      <td>1</td>\n",
              "      <td>0</td>\n",
              "      <td>1</td>\n",
              "      <td>0</td>\n",
              "      <td>0</td>\n",
              "      <td>0</td>\n",
              "      <td>0</td>\n",
              "      <td>0</td>\n",
              "      <td>0</td>\n",
              "      <td>0</td>\n",
              "      <td>0</td>\n",
              "      <td>0</td>\n",
              "    </tr>\n",
              "    <tr>\n",
              "      <th>2</th>\n",
              "      <td>Algeria</td>\n",
              "      <td>DZA</td>\n",
              "      <td>Oxford/AstraZeneca,SputnikV</td>\n",
              "      <td>0</td>\n",
              "      <td>1</td>\n",
              "      <td>0</td>\n",
              "      <td>1</td>\n",
              "      <td>0</td>\n",
              "      <td>0</td>\n",
              "      <td>0</td>\n",
              "      <td>0</td>\n",
              "      <td>0</td>\n",
              "      <td>0</td>\n",
              "      <td>0</td>\n",
              "      <td>0</td>\n",
              "      <td>0</td>\n",
              "      <td>0</td>\n",
              "      <td>0</td>\n",
              "    </tr>\n",
              "    <tr>\n",
              "      <th>3</th>\n",
              "      <td>Andorra</td>\n",
              "      <td>AND</td>\n",
              "      <td>Oxford/AstraZeneca,Pfizer/BioNTech</td>\n",
              "      <td>0</td>\n",
              "      <td>1</td>\n",
              "      <td>0</td>\n",
              "      <td>0</td>\n",
              "      <td>0</td>\n",
              "      <td>1</td>\n",
              "      <td>0</td>\n",
              "      <td>0</td>\n",
              "      <td>0</td>\n",
              "      <td>0</td>\n",
              "      <td>0</td>\n",
              "      <td>0</td>\n",
              "      <td>0</td>\n",
              "      <td>0</td>\n",
              "      <td>0</td>\n",
              "    </tr>\n",
              "    <tr>\n",
              "      <th>4</th>\n",
              "      <td>Angola</td>\n",
              "      <td>AGO</td>\n",
              "      <td>Oxford/AstraZeneca</td>\n",
              "      <td>0</td>\n",
              "      <td>1</td>\n",
              "      <td>0</td>\n",
              "      <td>0</td>\n",
              "      <td>0</td>\n",
              "      <td>0</td>\n",
              "      <td>0</td>\n",
              "      <td>0</td>\n",
              "      <td>0</td>\n",
              "      <td>0</td>\n",
              "      <td>0</td>\n",
              "      <td>0</td>\n",
              "      <td>0</td>\n",
              "      <td>0</td>\n",
              "      <td>0</td>\n",
              "    </tr>\n",
              "  </tbody>\n",
              "</table>\n",
              "</div>"
            ],
            "text/plain": [
              "      location iso_code  ... EpiVacCorona  RBD-Dimer\n",
              "0  Afghanistan      AFG  ...            0          0\n",
              "1      Albania      ALB  ...            0          0\n",
              "2      Algeria      DZA  ...            0          0\n",
              "3      Andorra      AND  ...            0          0\n",
              "4       Angola      AGO  ...            0          0\n",
              "\n",
              "[5 rows x 18 columns]"
            ]
          },
          "metadata": {
            "tags": []
          },
          "execution_count": 57
        }
      ]
    },
    {
      "cell_type": "code",
      "metadata": {
        "id": "NVlrmGVOjjdv"
      },
      "source": [
        "#We can drop the 'vaccines' and 'iso_code' columns as we won't be needing those.\n",
        "vaccines.drop(['iso_code','vaccines'],axis=1,inplace=True)"
      ],
      "execution_count": 58,
      "outputs": []
    },
    {
      "cell_type": "code",
      "metadata": {
        "colab": {
          "base_uri": "https://localhost:8080/",
          "height": 241
        },
        "id": "1wcEJ8E4k94z",
        "outputId": "1a892df6-996d-4c11-c729-cd113f8999fe"
      },
      "source": [
        "#The dataset is ready for use now.\n",
        "vaccines.head()"
      ],
      "execution_count": 59,
      "outputs": [
        {
          "output_type": "execute_result",
          "data": {
            "text/html": [
              "<div>\n",
              "<style scoped>\n",
              "    .dataframe tbody tr th:only-of-type {\n",
              "        vertical-align: middle;\n",
              "    }\n",
              "\n",
              "    .dataframe tbody tr th {\n",
              "        vertical-align: top;\n",
              "    }\n",
              "\n",
              "    .dataframe thead th {\n",
              "        text-align: right;\n",
              "    }\n",
              "</style>\n",
              "<table border=\"1\" class=\"dataframe\">\n",
              "  <thead>\n",
              "    <tr style=\"text-align: right;\">\n",
              "      <th></th>\n",
              "      <th>location</th>\n",
              "      <th>BBIBP-CorV</th>\n",
              "      <th>Oxford/AstraZeneca</th>\n",
              "      <th>Sinovac</th>\n",
              "      <th>SputnikV</th>\n",
              "      <th>Sinopharm</th>\n",
              "      <th>Pfizer/BioNTech</th>\n",
              "      <th>Johnson&amp;Johnson</th>\n",
              "      <th>Moderna</th>\n",
              "      <th>Covaxin</th>\n",
              "      <th>CanSino</th>\n",
              "      <th>Abdala</th>\n",
              "      <th>Soberana02</th>\n",
              "      <th>QazVac</th>\n",
              "      <th>EpiVacCorona</th>\n",
              "      <th>RBD-Dimer</th>\n",
              "    </tr>\n",
              "  </thead>\n",
              "  <tbody>\n",
              "    <tr>\n",
              "      <th>0</th>\n",
              "      <td>Afghanistan</td>\n",
              "      <td>1</td>\n",
              "      <td>1</td>\n",
              "      <td>0</td>\n",
              "      <td>0</td>\n",
              "      <td>0</td>\n",
              "      <td>1</td>\n",
              "      <td>0</td>\n",
              "      <td>0</td>\n",
              "      <td>0</td>\n",
              "      <td>0</td>\n",
              "      <td>0</td>\n",
              "      <td>0</td>\n",
              "      <td>0</td>\n",
              "      <td>0</td>\n",
              "      <td>0</td>\n",
              "    </tr>\n",
              "    <tr>\n",
              "      <th>1</th>\n",
              "      <td>Albania</td>\n",
              "      <td>0</td>\n",
              "      <td>1</td>\n",
              "      <td>1</td>\n",
              "      <td>1</td>\n",
              "      <td>0</td>\n",
              "      <td>1</td>\n",
              "      <td>0</td>\n",
              "      <td>0</td>\n",
              "      <td>0</td>\n",
              "      <td>0</td>\n",
              "      <td>0</td>\n",
              "      <td>0</td>\n",
              "      <td>0</td>\n",
              "      <td>0</td>\n",
              "      <td>0</td>\n",
              "    </tr>\n",
              "    <tr>\n",
              "      <th>2</th>\n",
              "      <td>Algeria</td>\n",
              "      <td>0</td>\n",
              "      <td>1</td>\n",
              "      <td>0</td>\n",
              "      <td>1</td>\n",
              "      <td>0</td>\n",
              "      <td>0</td>\n",
              "      <td>0</td>\n",
              "      <td>0</td>\n",
              "      <td>0</td>\n",
              "      <td>0</td>\n",
              "      <td>0</td>\n",
              "      <td>0</td>\n",
              "      <td>0</td>\n",
              "      <td>0</td>\n",
              "      <td>0</td>\n",
              "    </tr>\n",
              "    <tr>\n",
              "      <th>3</th>\n",
              "      <td>Andorra</td>\n",
              "      <td>0</td>\n",
              "      <td>1</td>\n",
              "      <td>0</td>\n",
              "      <td>0</td>\n",
              "      <td>0</td>\n",
              "      <td>1</td>\n",
              "      <td>0</td>\n",
              "      <td>0</td>\n",
              "      <td>0</td>\n",
              "      <td>0</td>\n",
              "      <td>0</td>\n",
              "      <td>0</td>\n",
              "      <td>0</td>\n",
              "      <td>0</td>\n",
              "      <td>0</td>\n",
              "    </tr>\n",
              "    <tr>\n",
              "      <th>4</th>\n",
              "      <td>Angola</td>\n",
              "      <td>0</td>\n",
              "      <td>1</td>\n",
              "      <td>0</td>\n",
              "      <td>0</td>\n",
              "      <td>0</td>\n",
              "      <td>0</td>\n",
              "      <td>0</td>\n",
              "      <td>0</td>\n",
              "      <td>0</td>\n",
              "      <td>0</td>\n",
              "      <td>0</td>\n",
              "      <td>0</td>\n",
              "      <td>0</td>\n",
              "      <td>0</td>\n",
              "      <td>0</td>\n",
              "    </tr>\n",
              "  </tbody>\n",
              "</table>\n",
              "</div>"
            ],
            "text/plain": [
              "      location  BBIBP-CorV  Oxford/AstraZeneca  ...  QazVac  EpiVacCorona  RBD-Dimer\n",
              "0  Afghanistan           1                   1  ...       0             0          0\n",
              "1      Albania           0                   1  ...       0             0          0\n",
              "2      Algeria           0                   1  ...       0             0          0\n",
              "3      Andorra           0                   1  ...       0             0          0\n",
              "4       Angola           0                   1  ...       0             0          0\n",
              "\n",
              "[5 rows x 16 columns]"
            ]
          },
          "metadata": {
            "tags": []
          },
          "execution_count": 59
        }
      ]
    },
    {
      "cell_type": "markdown",
      "metadata": {
        "id": "ZD68u3IyKZCI"
      },
      "source": [
        "##Vaccinations dataset"
      ]
    },
    {
      "cell_type": "code",
      "metadata": {
        "id": "L5wMP51XlQ0o"
      },
      "source": [
        "#Read in the dataset and assign it to 'vaccinations'.\n",
        "vaccinations = pd.read_csv(\"https://raw.githubusercontent.com/siglimumuni/Datasets/master/Covid/vaccinations.csv\")"
      ],
      "execution_count": 60,
      "outputs": []
    },
    {
      "cell_type": "code",
      "metadata": {
        "colab": {
          "base_uri": "https://localhost:8080/",
          "height": 309
        },
        "id": "5bhpUllH6Nbv",
        "outputId": "0ac80699-eaef-40d6-a3a4-6dd2eeea765d"
      },
      "source": [
        "#View the first 5 rows of the dataset\n",
        "vaccinations.head()"
      ],
      "execution_count": 61,
      "outputs": [
        {
          "output_type": "execute_result",
          "data": {
            "text/html": [
              "<div>\n",
              "<style scoped>\n",
              "    .dataframe tbody tr th:only-of-type {\n",
              "        vertical-align: middle;\n",
              "    }\n",
              "\n",
              "    .dataframe tbody tr th {\n",
              "        vertical-align: top;\n",
              "    }\n",
              "\n",
              "    .dataframe thead th {\n",
              "        text-align: right;\n",
              "    }\n",
              "</style>\n",
              "<table border=\"1\" class=\"dataframe\">\n",
              "  <thead>\n",
              "    <tr style=\"text-align: right;\">\n",
              "      <th></th>\n",
              "      <th>location</th>\n",
              "      <th>iso_code</th>\n",
              "      <th>date</th>\n",
              "      <th>total_vaccinations</th>\n",
              "      <th>people_vaccinated</th>\n",
              "      <th>people_fully_vaccinated</th>\n",
              "      <th>daily_vaccinations_raw</th>\n",
              "      <th>daily_vaccinations</th>\n",
              "      <th>total_vaccinations_per_hundred</th>\n",
              "      <th>people_vaccinated_per_hundred</th>\n",
              "      <th>people_fully_vaccinated_per_hundred</th>\n",
              "      <th>daily_vaccinations_per_million</th>\n",
              "    </tr>\n",
              "  </thead>\n",
              "  <tbody>\n",
              "    <tr>\n",
              "      <th>0</th>\n",
              "      <td>Afghanistan</td>\n",
              "      <td>AFG</td>\n",
              "      <td>2021-02-22</td>\n",
              "      <td>0.0</td>\n",
              "      <td>0.0</td>\n",
              "      <td>NaN</td>\n",
              "      <td>NaN</td>\n",
              "      <td>NaN</td>\n",
              "      <td>0.0</td>\n",
              "      <td>0.0</td>\n",
              "      <td>NaN</td>\n",
              "      <td>NaN</td>\n",
              "    </tr>\n",
              "    <tr>\n",
              "      <th>1</th>\n",
              "      <td>Afghanistan</td>\n",
              "      <td>AFG</td>\n",
              "      <td>2021-02-23</td>\n",
              "      <td>NaN</td>\n",
              "      <td>NaN</td>\n",
              "      <td>NaN</td>\n",
              "      <td>NaN</td>\n",
              "      <td>1367.0</td>\n",
              "      <td>NaN</td>\n",
              "      <td>NaN</td>\n",
              "      <td>NaN</td>\n",
              "      <td>35.0</td>\n",
              "    </tr>\n",
              "    <tr>\n",
              "      <th>2</th>\n",
              "      <td>Afghanistan</td>\n",
              "      <td>AFG</td>\n",
              "      <td>2021-02-24</td>\n",
              "      <td>NaN</td>\n",
              "      <td>NaN</td>\n",
              "      <td>NaN</td>\n",
              "      <td>NaN</td>\n",
              "      <td>1367.0</td>\n",
              "      <td>NaN</td>\n",
              "      <td>NaN</td>\n",
              "      <td>NaN</td>\n",
              "      <td>35.0</td>\n",
              "    </tr>\n",
              "    <tr>\n",
              "      <th>3</th>\n",
              "      <td>Afghanistan</td>\n",
              "      <td>AFG</td>\n",
              "      <td>2021-02-25</td>\n",
              "      <td>NaN</td>\n",
              "      <td>NaN</td>\n",
              "      <td>NaN</td>\n",
              "      <td>NaN</td>\n",
              "      <td>1367.0</td>\n",
              "      <td>NaN</td>\n",
              "      <td>NaN</td>\n",
              "      <td>NaN</td>\n",
              "      <td>35.0</td>\n",
              "    </tr>\n",
              "    <tr>\n",
              "      <th>4</th>\n",
              "      <td>Afghanistan</td>\n",
              "      <td>AFG</td>\n",
              "      <td>2021-02-26</td>\n",
              "      <td>NaN</td>\n",
              "      <td>NaN</td>\n",
              "      <td>NaN</td>\n",
              "      <td>NaN</td>\n",
              "      <td>1367.0</td>\n",
              "      <td>NaN</td>\n",
              "      <td>NaN</td>\n",
              "      <td>NaN</td>\n",
              "      <td>35.0</td>\n",
              "    </tr>\n",
              "  </tbody>\n",
              "</table>\n",
              "</div>"
            ],
            "text/plain": [
              "      location  ... daily_vaccinations_per_million\n",
              "0  Afghanistan  ...                            NaN\n",
              "1  Afghanistan  ...                           35.0\n",
              "2  Afghanistan  ...                           35.0\n",
              "3  Afghanistan  ...                           35.0\n",
              "4  Afghanistan  ...                           35.0\n",
              "\n",
              "[5 rows x 12 columns]"
            ]
          },
          "metadata": {
            "tags": []
          },
          "execution_count": 61
        }
      ]
    },
    {
      "cell_type": "code",
      "metadata": {
        "colab": {
          "base_uri": "https://localhost:8080/"
        },
        "id": "h_61X5FsKmYg",
        "outputId": "2c1636a5-dd45-4766-b001-767068f2ba41"
      },
      "source": [
        "#check the structure of the dataset\n",
        "vaccinations.info()"
      ],
      "execution_count": 62,
      "outputs": [
        {
          "output_type": "stream",
          "text": [
            "<class 'pandas.core.frame.DataFrame'>\n",
            "RangeIndex: 26938 entries, 0 to 26937\n",
            "Data columns (total 12 columns):\n",
            " #   Column                               Non-Null Count  Dtype  \n",
            "---  ------                               --------------  -----  \n",
            " 0   location                             26938 non-null  object \n",
            " 1   iso_code                             26938 non-null  object \n",
            " 2   date                                 26938 non-null  object \n",
            " 3   total_vaccinations                   15997 non-null  float64\n",
            " 4   people_vaccinated                    15216 non-null  float64\n",
            " 5   people_fully_vaccinated              12264 non-null  float64\n",
            " 6   daily_vaccinations_raw               13545 non-null  float64\n",
            " 7   daily_vaccinations                   26686 non-null  float64\n",
            " 8   total_vaccinations_per_hundred       15997 non-null  float64\n",
            " 9   people_vaccinated_per_hundred        15216 non-null  float64\n",
            " 10  people_fully_vaccinated_per_hundred  12264 non-null  float64\n",
            " 11  daily_vaccinations_per_million       26686 non-null  float64\n",
            "dtypes: float64(9), object(3)\n",
            "memory usage: 2.5+ MB\n"
          ],
          "name": "stdout"
        }
      ]
    },
    {
      "cell_type": "markdown",
      "metadata": {
        "id": "if42orwWK1zG"
      },
      "source": [
        "####To make our dataset usable, we will need to extract only the latest date for each country as it contains an accumulation of all relevant data."
      ]
    },
    {
      "cell_type": "code",
      "metadata": {
        "id": "916YAZueVXr4"
      },
      "source": [
        "#First, we extract world data with all date fields for use in building a time series chart.\n",
        "world = vaccinations[vaccinations['location'] == 'World']"
      ],
      "execution_count": 63,
      "outputs": []
    },
    {
      "cell_type": "code",
      "metadata": {
        "colab": {
          "base_uri": "https://localhost:8080/",
          "height": 309
        },
        "id": "853_5H-9VauE",
        "outputId": "1fdd5c3a-b25c-4d18-8f8d-d40fc10c36bb"
      },
      "source": [
        "world.head()"
      ],
      "execution_count": 64,
      "outputs": [
        {
          "output_type": "execute_result",
          "data": {
            "text/html": [
              "<div>\n",
              "<style scoped>\n",
              "    .dataframe tbody tr th:only-of-type {\n",
              "        vertical-align: middle;\n",
              "    }\n",
              "\n",
              "    .dataframe tbody tr th {\n",
              "        vertical-align: top;\n",
              "    }\n",
              "\n",
              "    .dataframe thead th {\n",
              "        text-align: right;\n",
              "    }\n",
              "</style>\n",
              "<table border=\"1\" class=\"dataframe\">\n",
              "  <thead>\n",
              "    <tr style=\"text-align: right;\">\n",
              "      <th></th>\n",
              "      <th>location</th>\n",
              "      <th>iso_code</th>\n",
              "      <th>date</th>\n",
              "      <th>total_vaccinations</th>\n",
              "      <th>people_vaccinated</th>\n",
              "      <th>people_fully_vaccinated</th>\n",
              "      <th>daily_vaccinations_raw</th>\n",
              "      <th>daily_vaccinations</th>\n",
              "      <th>total_vaccinations_per_hundred</th>\n",
              "      <th>people_vaccinated_per_hundred</th>\n",
              "      <th>people_fully_vaccinated_per_hundred</th>\n",
              "      <th>daily_vaccinations_per_million</th>\n",
              "    </tr>\n",
              "  </thead>\n",
              "  <tbody>\n",
              "    <tr>\n",
              "      <th>26542</th>\n",
              "      <td>World</td>\n",
              "      <td>OWID_WRL</td>\n",
              "      <td>2020-12-02</td>\n",
              "      <td>0.0</td>\n",
              "      <td>0.0</td>\n",
              "      <td>NaN</td>\n",
              "      <td>NaN</td>\n",
              "      <td>NaN</td>\n",
              "      <td>0.0</td>\n",
              "      <td>0.0</td>\n",
              "      <td>NaN</td>\n",
              "      <td>NaN</td>\n",
              "    </tr>\n",
              "    <tr>\n",
              "      <th>26543</th>\n",
              "      <td>World</td>\n",
              "      <td>OWID_WRL</td>\n",
              "      <td>2020-12-03</td>\n",
              "      <td>0.0</td>\n",
              "      <td>0.0</td>\n",
              "      <td>NaN</td>\n",
              "      <td>0.0</td>\n",
              "      <td>0.0</td>\n",
              "      <td>0.0</td>\n",
              "      <td>0.0</td>\n",
              "      <td>NaN</td>\n",
              "      <td>0.0</td>\n",
              "    </tr>\n",
              "    <tr>\n",
              "      <th>26544</th>\n",
              "      <td>World</td>\n",
              "      <td>OWID_WRL</td>\n",
              "      <td>2020-12-04</td>\n",
              "      <td>0.0</td>\n",
              "      <td>0.0</td>\n",
              "      <td>NaN</td>\n",
              "      <td>0.0</td>\n",
              "      <td>0.0</td>\n",
              "      <td>0.0</td>\n",
              "      <td>0.0</td>\n",
              "      <td>NaN</td>\n",
              "      <td>0.0</td>\n",
              "    </tr>\n",
              "    <tr>\n",
              "      <th>26545</th>\n",
              "      <td>World</td>\n",
              "      <td>OWID_WRL</td>\n",
              "      <td>2020-12-05</td>\n",
              "      <td>0.0</td>\n",
              "      <td>0.0</td>\n",
              "      <td>NaN</td>\n",
              "      <td>0.0</td>\n",
              "      <td>0.0</td>\n",
              "      <td>0.0</td>\n",
              "      <td>0.0</td>\n",
              "      <td>NaN</td>\n",
              "      <td>0.0</td>\n",
              "    </tr>\n",
              "    <tr>\n",
              "      <th>26546</th>\n",
              "      <td>World</td>\n",
              "      <td>OWID_WRL</td>\n",
              "      <td>2020-12-06</td>\n",
              "      <td>0.0</td>\n",
              "      <td>0.0</td>\n",
              "      <td>NaN</td>\n",
              "      <td>0.0</td>\n",
              "      <td>0.0</td>\n",
              "      <td>0.0</td>\n",
              "      <td>0.0</td>\n",
              "      <td>NaN</td>\n",
              "      <td>0.0</td>\n",
              "    </tr>\n",
              "  </tbody>\n",
              "</table>\n",
              "</div>"
            ],
            "text/plain": [
              "      location  ... daily_vaccinations_per_million\n",
              "26542    World  ...                            NaN\n",
              "26543    World  ...                            0.0\n",
              "26544    World  ...                            0.0\n",
              "26545    World  ...                            0.0\n",
              "26546    World  ...                            0.0\n",
              "\n",
              "[5 rows x 12 columns]"
            ]
          },
          "metadata": {
            "tags": []
          },
          "execution_count": 64
        }
      ]
    },
    {
      "cell_type": "code",
      "metadata": {
        "id": "DSbfX9j_9JQG"
      },
      "source": [
        "#To extract only the latest date for the rest of our location fielsd, we begin by making a list of all unique locations in the dataset.\n",
        "country_list = vaccinations['location'].unique()"
      ],
      "execution_count": 65,
      "outputs": []
    },
    {
      "cell_type": "code",
      "metadata": {
        "colab": {
          "base_uri": "https://localhost:8080/"
        },
        "id": "7R1CRErrYUr-",
        "outputId": "ec0cd70d-6ed7-4849-94c7-4124a2428eb8"
      },
      "source": [
        "country_list"
      ],
      "execution_count": 66,
      "outputs": [
        {
          "output_type": "execute_result",
          "data": {
            "text/plain": [
              "array(['Afghanistan', 'Africa', 'Albania', 'Algeria', 'Andorra', 'Angola',\n",
              "       'Anguilla', 'Antigua and Barbuda', 'Argentina', 'Armenia', 'Aruba',\n",
              "       'Asia', 'Australia', 'Austria', 'Azerbaijan', 'Bahamas', 'Bahrain',\n",
              "       'Bangladesh', 'Barbados', 'Belarus', 'Belgium', 'Belize', 'Benin',\n",
              "       'Bermuda', 'Bhutan', 'Bolivia', 'Bonaire Sint Eustatius and Saba',\n",
              "       'Bosnia and Herzegovina', 'Botswana', 'Brazil',\n",
              "       'British Virgin Islands', 'Brunei', 'Bulgaria', 'Burkina Faso',\n",
              "       'Cambodia', 'Cameroon', 'Canada', 'Cape Verde', 'Cayman Islands',\n",
              "       'Central African Republic', 'Chad', 'Chile', 'China', 'Colombia',\n",
              "       'Comoros', 'Congo', 'Cook Islands', 'Costa Rica', \"Cote d'Ivoire\",\n",
              "       'Croatia', 'Cuba', 'Curacao', 'Cyprus', 'Czechia',\n",
              "       'Democratic Republic of Congo', 'Denmark', 'Djibouti', 'Dominica',\n",
              "       'Dominican Republic', 'Ecuador', 'Egypt', 'El Salvador', 'England',\n",
              "       'Equatorial Guinea', 'Estonia', 'Eswatini', 'Ethiopia', 'Europe',\n",
              "       'European Union', 'Faeroe Islands', 'Falkland Islands', 'Fiji',\n",
              "       'Finland', 'France', 'French Polynesia', 'Gabon', 'Gambia',\n",
              "       'Georgia', 'Germany', 'Ghana', 'Gibraltar', 'Greece', 'Greenland',\n",
              "       'Grenada', 'Guatemala', 'Guernsey', 'Guinea', 'Guinea-Bissau',\n",
              "       'Guyana', 'High income', 'Honduras', 'Hong Kong', 'Hungary',\n",
              "       'Iceland', 'India', 'Indonesia', 'Iran', 'Iraq', 'Ireland',\n",
              "       'Isle of Man', 'Israel', 'Italy', 'Jamaica', 'Japan', 'Jersey',\n",
              "       'Jordan', 'Kazakhstan', 'Kenya', 'Kosovo', 'Kuwait', 'Kyrgyzstan',\n",
              "       'Laos', 'Latvia', 'Lebanon', 'Lesotho', 'Liberia', 'Libya',\n",
              "       'Liechtenstein', 'Lithuania', 'Low income', 'Lower middle income',\n",
              "       'Luxembourg', 'Macao', 'Madagascar', 'Malawi', 'Malaysia',\n",
              "       'Maldives', 'Mali', 'Malta', 'Mauritania', 'Mauritius', 'Mexico',\n",
              "       'Moldova', 'Monaco', 'Mongolia', 'Montenegro', 'Montserrat',\n",
              "       'Morocco', 'Mozambique', 'Myanmar', 'Namibia', 'Nauru', 'Nepal',\n",
              "       'Netherlands', 'New Caledonia', 'New Zealand', 'Nicaragua',\n",
              "       'Niger', 'Nigeria', 'North America', 'North Macedonia',\n",
              "       'Northern Cyprus', 'Northern Ireland', 'Norway', 'Oceania', 'Oman',\n",
              "       'Pakistan', 'Palestine', 'Panama', 'Papua New Guinea', 'Paraguay',\n",
              "       'Peru', 'Philippines', 'Poland', 'Portugal', 'Qatar', 'Romania',\n",
              "       'Russia', 'Rwanda', 'Saint Helena', 'Saint Kitts and Nevis',\n",
              "       'Saint Lucia', 'Saint Vincent and the Grenadines', 'Samoa',\n",
              "       'San Marino', 'Sao Tome and Principe', 'Saudi Arabia', 'Scotland',\n",
              "       'Senegal', 'Serbia', 'Seychelles', 'Sierra Leone', 'Singapore',\n",
              "       'Sint Maarten (Dutch part)', 'Slovakia', 'Slovenia',\n",
              "       'Solomon Islands', 'Somalia', 'South Africa', 'South America',\n",
              "       'South Korea', 'South Sudan', 'Spain', 'Sri Lanka', 'Sudan',\n",
              "       'Suriname', 'Sweden', 'Switzerland', 'Syria', 'Taiwan',\n",
              "       'Tajikistan', 'Thailand', 'Timor', 'Togo', 'Tonga',\n",
              "       'Trinidad and Tobago', 'Tunisia', 'Turkey', 'Turkmenistan',\n",
              "       'Turks and Caicos Islands', 'Tuvalu', 'Uganda', 'Ukraine',\n",
              "       'United Arab Emirates', 'United Kingdom', 'United States',\n",
              "       'Upper middle income', 'Uruguay', 'Uzbekistan', 'Vanuatu',\n",
              "       'Venezuela', 'Vietnam', 'Wales', 'Wallis and Futuna', 'World',\n",
              "       'Yemen', 'Zambia', 'Zimbabwe'], dtype=object)"
            ]
          },
          "metadata": {
            "tags": []
          },
          "execution_count": 66
        }
      ]
    },
    {
      "cell_type": "code",
      "metadata": {
        "colab": {
          "base_uri": "https://localhost:8080/"
        },
        "id": "PUT0dGSdSJ-q",
        "outputId": "fa480878-39f5-4923-c8f1-0e6ab3aa706f"
      },
      "source": [
        "vaccinations.columns"
      ],
      "execution_count": 67,
      "outputs": [
        {
          "output_type": "execute_result",
          "data": {
            "text/plain": [
              "Index(['location', 'iso_code', 'date', 'total_vaccinations',\n",
              "       'people_vaccinated', 'people_fully_vaccinated',\n",
              "       'daily_vaccinations_raw', 'daily_vaccinations',\n",
              "       'total_vaccinations_per_hundred', 'people_vaccinated_per_hundred',\n",
              "       'people_fully_vaccinated_per_hundred',\n",
              "       'daily_vaccinations_per_million'],\n",
              "      dtype='object')"
            ]
          },
          "metadata": {
            "tags": []
          },
          "execution_count": 67
        }
      ]
    },
    {
      "cell_type": "code",
      "metadata": {
        "id": "oqVEhtxe6O5a"
      },
      "source": [
        "#Next we create a function that will extract information from the row with the latest date per country.\n",
        "\n",
        "def extractlatest(country):\n",
        "  return list(vaccinations[vaccinations['location']== country].sort_values('date',ascending=False).iloc[0])"
      ],
      "execution_count": 68,
      "outputs": []
    },
    {
      "cell_type": "code",
      "metadata": {
        "id": "08icywz56eml"
      },
      "source": [
        "#We use a for loop to apply function to each country in our country_list. We then append the information retrieved to a list.\n",
        "latest_dates = []\n",
        "for country in country_list:\n",
        "  latest_dates.append(extractlatest(country))"
      ],
      "execution_count": 69,
      "outputs": []
    },
    {
      "cell_type": "code",
      "metadata": {
        "id": "wBclCKNGRe06"
      },
      "source": [
        "#Next, we create a dataframe from our list. \n",
        "vaccinations = pd.DataFrame(latest_dates,columns=vaccinations.columns)"
      ],
      "execution_count": 70,
      "outputs": []
    },
    {
      "cell_type": "code",
      "metadata": {
        "colab": {
          "base_uri": "https://localhost:8080/",
          "height": 309
        },
        "id": "QVO42aVMrzMV",
        "outputId": "0342bc5c-2da9-4784-d892-213819c591db"
      },
      "source": [
        "vaccinations.head()"
      ],
      "execution_count": 71,
      "outputs": [
        {
          "output_type": "execute_result",
          "data": {
            "text/html": [
              "<div>\n",
              "<style scoped>\n",
              "    .dataframe tbody tr th:only-of-type {\n",
              "        vertical-align: middle;\n",
              "    }\n",
              "\n",
              "    .dataframe tbody tr th {\n",
              "        vertical-align: top;\n",
              "    }\n",
              "\n",
              "    .dataframe thead th {\n",
              "        text-align: right;\n",
              "    }\n",
              "</style>\n",
              "<table border=\"1\" class=\"dataframe\">\n",
              "  <thead>\n",
              "    <tr style=\"text-align: right;\">\n",
              "      <th></th>\n",
              "      <th>location</th>\n",
              "      <th>iso_code</th>\n",
              "      <th>date</th>\n",
              "      <th>total_vaccinations</th>\n",
              "      <th>people_vaccinated</th>\n",
              "      <th>people_fully_vaccinated</th>\n",
              "      <th>daily_vaccinations_raw</th>\n",
              "      <th>daily_vaccinations</th>\n",
              "      <th>total_vaccinations_per_hundred</th>\n",
              "      <th>people_vaccinated_per_hundred</th>\n",
              "      <th>people_fully_vaccinated_per_hundred</th>\n",
              "      <th>daily_vaccinations_per_million</th>\n",
              "    </tr>\n",
              "  </thead>\n",
              "  <tbody>\n",
              "    <tr>\n",
              "      <th>0</th>\n",
              "      <td>Afghanistan</td>\n",
              "      <td>AFG</td>\n",
              "      <td>2021-06-14</td>\n",
              "      <td>662003.0</td>\n",
              "      <td>484737.0</td>\n",
              "      <td>177266.0</td>\n",
              "      <td>NaN</td>\n",
              "      <td>3272.0</td>\n",
              "      <td>1.70</td>\n",
              "      <td>1.25</td>\n",
              "      <td>0.46</td>\n",
              "      <td>84.0</td>\n",
              "    </tr>\n",
              "    <tr>\n",
              "      <th>1</th>\n",
              "      <td>Africa</td>\n",
              "      <td>OWID_AFR</td>\n",
              "      <td>2021-06-15</td>\n",
              "      <td>42911552.0</td>\n",
              "      <td>30254871.0</td>\n",
              "      <td>11835115.0</td>\n",
              "      <td>443728.0</td>\n",
              "      <td>508611.0</td>\n",
              "      <td>3.20</td>\n",
              "      <td>2.26</td>\n",
              "      <td>0.88</td>\n",
              "      <td>379.0</td>\n",
              "    </tr>\n",
              "    <tr>\n",
              "      <th>2</th>\n",
              "      <td>Albania</td>\n",
              "      <td>ALB</td>\n",
              "      <td>2021-06-14</td>\n",
              "      <td>842535.0</td>\n",
              "      <td>507764.0</td>\n",
              "      <td>334771.0</td>\n",
              "      <td>6105.0</td>\n",
              "      <td>5550.0</td>\n",
              "      <td>29.28</td>\n",
              "      <td>17.64</td>\n",
              "      <td>11.63</td>\n",
              "      <td>1929.0</td>\n",
              "    </tr>\n",
              "    <tr>\n",
              "      <th>3</th>\n",
              "      <td>Algeria</td>\n",
              "      <td>DZA</td>\n",
              "      <td>2021-06-06</td>\n",
              "      <td>2500000.0</td>\n",
              "      <td>2500000.0</td>\n",
              "      <td>NaN</td>\n",
              "      <td>NaN</td>\n",
              "      <td>22664.0</td>\n",
              "      <td>5.70</td>\n",
              "      <td>5.70</td>\n",
              "      <td>NaN</td>\n",
              "      <td>517.0</td>\n",
              "    </tr>\n",
              "    <tr>\n",
              "      <th>4</th>\n",
              "      <td>Andorra</td>\n",
              "      <td>AND</td>\n",
              "      <td>2021-06-07</td>\n",
              "      <td>41473.0</td>\n",
              "      <td>30535.0</td>\n",
              "      <td>10938.0</td>\n",
              "      <td>NaN</td>\n",
              "      <td>794.0</td>\n",
              "      <td>53.68</td>\n",
              "      <td>39.52</td>\n",
              "      <td>14.16</td>\n",
              "      <td>10276.0</td>\n",
              "    </tr>\n",
              "  </tbody>\n",
              "</table>\n",
              "</div>"
            ],
            "text/plain": [
              "      location  ... daily_vaccinations_per_million\n",
              "0  Afghanistan  ...                           84.0\n",
              "1       Africa  ...                          379.0\n",
              "2      Albania  ...                         1929.0\n",
              "3      Algeria  ...                          517.0\n",
              "4      Andorra  ...                        10276.0\n",
              "\n",
              "[5 rows x 12 columns]"
            ]
          },
          "metadata": {
            "tags": []
          },
          "execution_count": 71
        }
      ]
    },
    {
      "cell_type": "markdown",
      "metadata": {
        "id": "dyYtZSAPshvw"
      },
      "source": [
        "###Finally the location column contains regions and income classes mixed with countries. To facilitate our analysis, we will seperate entries belonging to regions and income groupings into seperate dataframes.\n"
      ]
    },
    {
      "cell_type": "code",
      "metadata": {
        "id": "Y4YpNOEzr7LI"
      },
      "source": [
        "#Create a list of all entries in the locations column that are regions.\n",
        "regions_list = ['Africa', 'Asia', 'Europe','European Union','North America','South America','United Kingdom','Oceania','World']\n",
        "#Create a list of all entries in the locations column that are income groupings.\n",
        "income_list = ['High income','Low income', 'Lower middle income','Upper middle income']\n"
      ],
      "execution_count": 72,
      "outputs": []
    },
    {
      "cell_type": "code",
      "metadata": {
        "id": "mmUJoNqwvrZp"
      },
      "source": [
        "#We create a custom function to extract rows with regional entries, and then delete them.\n",
        "def extractregion(region):\n",
        "  return list(vaccinations[vaccinations['location']== region].iloc[0])\n",
        "  \n",
        "  "
      ],
      "execution_count": 73,
      "outputs": []
    },
    {
      "cell_type": "code",
      "metadata": {
        "id": "c0Kh_rfnw-T8"
      },
      "source": [
        "#We use a for loop to apply function to each region in our regions_list. We then append the information retrieved to a list and delete the region\n",
        "#from the vaccinations dataset\n",
        "regions_data = []\n",
        "for reg in regions_list:\n",
        "  regions_data.append(extractregion(reg))\n",
        "  vaccinations.drop(vaccinations[vaccinations['location']==reg].index,inplace=True)"
      ],
      "execution_count": 74,
      "outputs": []
    },
    {
      "cell_type": "code",
      "metadata": {
        "colab": {
          "base_uri": "https://localhost:8080/"
        },
        "id": "LcE7xbNc5MF-",
        "outputId": "c4343150-85af-4055-8ef6-6ecf60945b49"
      },
      "source": [
        "#We no longer have any regions in the locations column.\n",
        "vaccinations['location']"
      ],
      "execution_count": 75,
      "outputs": [
        {
          "output_type": "execute_result",
          "data": {
            "text/plain": [
              "0            Afghanistan\n",
              "2                Albania\n",
              "3                Algeria\n",
              "4                Andorra\n",
              "5                 Angola\n",
              "             ...        \n",
              "222                Wales\n",
              "223    Wallis and Futuna\n",
              "225                Yemen\n",
              "226               Zambia\n",
              "227             Zimbabwe\n",
              "Name: location, Length: 219, dtype: object"
            ]
          },
          "metadata": {
            "tags": []
          },
          "execution_count": 75
        }
      ]
    },
    {
      "cell_type": "code",
      "metadata": {
        "id": "DKcna77gxlW4"
      },
      "source": [
        "#We can now create a regions dataset from our regions list\n",
        "vaccinations_by_region = pd.DataFrame(regions_data,columns=vaccinations.columns)"
      ],
      "execution_count": 76,
      "outputs": []
    },
    {
      "cell_type": "code",
      "metadata": {
        "colab": {
          "base_uri": "https://localhost:8080/",
          "height": 309
        },
        "id": "mvRSK23m2fvj",
        "outputId": "6d68d06b-9814-4ae3-f2fa-2e92364eba29"
      },
      "source": [
        "vaccinations_by_region.head()"
      ],
      "execution_count": 77,
      "outputs": [
        {
          "output_type": "execute_result",
          "data": {
            "text/html": [
              "<div>\n",
              "<style scoped>\n",
              "    .dataframe tbody tr th:only-of-type {\n",
              "        vertical-align: middle;\n",
              "    }\n",
              "\n",
              "    .dataframe tbody tr th {\n",
              "        vertical-align: top;\n",
              "    }\n",
              "\n",
              "    .dataframe thead th {\n",
              "        text-align: right;\n",
              "    }\n",
              "</style>\n",
              "<table border=\"1\" class=\"dataframe\">\n",
              "  <thead>\n",
              "    <tr style=\"text-align: right;\">\n",
              "      <th></th>\n",
              "      <th>location</th>\n",
              "      <th>iso_code</th>\n",
              "      <th>date</th>\n",
              "      <th>total_vaccinations</th>\n",
              "      <th>people_vaccinated</th>\n",
              "      <th>people_fully_vaccinated</th>\n",
              "      <th>daily_vaccinations_raw</th>\n",
              "      <th>daily_vaccinations</th>\n",
              "      <th>total_vaccinations_per_hundred</th>\n",
              "      <th>people_vaccinated_per_hundred</th>\n",
              "      <th>people_fully_vaccinated_per_hundred</th>\n",
              "      <th>daily_vaccinations_per_million</th>\n",
              "    </tr>\n",
              "  </thead>\n",
              "  <tbody>\n",
              "    <tr>\n",
              "      <th>0</th>\n",
              "      <td>Africa</td>\n",
              "      <td>OWID_AFR</td>\n",
              "      <td>2021-06-15</td>\n",
              "      <td>4.291155e+07</td>\n",
              "      <td>30254871.0</td>\n",
              "      <td>11835115.0</td>\n",
              "      <td>443728.0</td>\n",
              "      <td>508611.0</td>\n",
              "      <td>3.20</td>\n",
              "      <td>2.26</td>\n",
              "      <td>0.88</td>\n",
              "      <td>379.0</td>\n",
              "    </tr>\n",
              "    <tr>\n",
              "      <th>1</th>\n",
              "      <td>Asia</td>\n",
              "      <td>OWID_ASI</td>\n",
              "      <td>2021-06-15</td>\n",
              "      <td>1.429771e+09</td>\n",
              "      <td>984473259.0</td>\n",
              "      <td>345046218.0</td>\n",
              "      <td>27677214.0</td>\n",
              "      <td>24079401.0</td>\n",
              "      <td>30.82</td>\n",
              "      <td>21.22</td>\n",
              "      <td>7.44</td>\n",
              "      <td>5190.0</td>\n",
              "    </tr>\n",
              "    <tr>\n",
              "      <th>2</th>\n",
              "      <td>Europe</td>\n",
              "      <td>OWID_EUR</td>\n",
              "      <td>2021-06-15</td>\n",
              "      <td>4.291775e+08</td>\n",
              "      <td>272268496.0</td>\n",
              "      <td>162451602.0</td>\n",
              "      <td>1437290.0</td>\n",
              "      <td>4138187.0</td>\n",
              "      <td>57.32</td>\n",
              "      <td>36.37</td>\n",
              "      <td>21.70</td>\n",
              "      <td>5527.0</td>\n",
              "    </tr>\n",
              "    <tr>\n",
              "      <th>3</th>\n",
              "      <td>European Union</td>\n",
              "      <td>OWID_EUN</td>\n",
              "      <td>2021-06-15</td>\n",
              "      <td>3.036916e+08</td>\n",
              "      <td>199160141.0</td>\n",
              "      <td>110066905.0</td>\n",
              "      <td>1301977.0</td>\n",
              "      <td>3288005.0</td>\n",
              "      <td>68.26</td>\n",
              "      <td>44.76</td>\n",
              "      <td>24.74</td>\n",
              "      <td>7390.0</td>\n",
              "    </tr>\n",
              "    <tr>\n",
              "      <th>4</th>\n",
              "      <td>North America</td>\n",
              "      <td>OWID_NAM</td>\n",
              "      <td>2021-06-15</td>\n",
              "      <td>3.983186e+08</td>\n",
              "      <td>237897165.0</td>\n",
              "      <td>171731970.0</td>\n",
              "      <td>1805480.0</td>\n",
              "      <td>2271300.0</td>\n",
              "      <td>67.28</td>\n",
              "      <td>40.18</td>\n",
              "      <td>29.01</td>\n",
              "      <td>3836.0</td>\n",
              "    </tr>\n",
              "  </tbody>\n",
              "</table>\n",
              "</div>"
            ],
            "text/plain": [
              "         location  ... daily_vaccinations_per_million\n",
              "0          Africa  ...                          379.0\n",
              "1            Asia  ...                         5190.0\n",
              "2          Europe  ...                         5527.0\n",
              "3  European Union  ...                         7390.0\n",
              "4   North America  ...                         3836.0\n",
              "\n",
              "[5 rows x 12 columns]"
            ]
          },
          "metadata": {
            "tags": []
          },
          "execution_count": 77
        }
      ]
    },
    {
      "cell_type": "code",
      "metadata": {
        "id": "4-9goqLl5Y3j"
      },
      "source": [
        "#Now we extract all rows in the locations column that are income groupings and create a new dataframe.\n",
        "def extractincome(incgroup):\n",
        "  return list(vaccinations[vaccinations['location']== incgroup].iloc[0])"
      ],
      "execution_count": 78,
      "outputs": []
    },
    {
      "cell_type": "code",
      "metadata": {
        "id": "KB5SSsfd51UD"
      },
      "source": [
        "#We use a for loop to apply function to each income group in our income_list. We then append the information retrieved to a list and delete the region\n",
        "#from the vaccinations dataset\n",
        "income_group_data = []\n",
        "for group in income_list:\n",
        "  income_group_data.append(extractincome(group))\n",
        "  vaccinations.drop(vaccinations[vaccinations['location']==group].index,inplace=True)"
      ],
      "execution_count": 79,
      "outputs": []
    },
    {
      "cell_type": "code",
      "metadata": {
        "id": "UuA2zNj86QYi"
      },
      "source": [
        "income_groups = pd.DataFrame(income_group_data,columns=vaccinations.columns)"
      ],
      "execution_count": 80,
      "outputs": []
    },
    {
      "cell_type": "code",
      "metadata": {
        "colab": {
          "base_uri": "https://localhost:8080/",
          "height": 295
        },
        "id": "8mCKizxZ6YvP",
        "outputId": "237ec889-c866-4d71-c83a-d1a722bf0b49"
      },
      "source": [
        "income_groups"
      ],
      "execution_count": 81,
      "outputs": [
        {
          "output_type": "execute_result",
          "data": {
            "text/html": [
              "<div>\n",
              "<style scoped>\n",
              "    .dataframe tbody tr th:only-of-type {\n",
              "        vertical-align: middle;\n",
              "    }\n",
              "\n",
              "    .dataframe tbody tr th {\n",
              "        vertical-align: top;\n",
              "    }\n",
              "\n",
              "    .dataframe thead th {\n",
              "        text-align: right;\n",
              "    }\n",
              "</style>\n",
              "<table border=\"1\" class=\"dataframe\">\n",
              "  <thead>\n",
              "    <tr style=\"text-align: right;\">\n",
              "      <th></th>\n",
              "      <th>location</th>\n",
              "      <th>iso_code</th>\n",
              "      <th>date</th>\n",
              "      <th>total_vaccinations</th>\n",
              "      <th>people_vaccinated</th>\n",
              "      <th>people_fully_vaccinated</th>\n",
              "      <th>daily_vaccinations_raw</th>\n",
              "      <th>daily_vaccinations</th>\n",
              "      <th>total_vaccinations_per_hundred</th>\n",
              "      <th>people_vaccinated_per_hundred</th>\n",
              "      <th>people_fully_vaccinated_per_hundred</th>\n",
              "      <th>daily_vaccinations_per_million</th>\n",
              "    </tr>\n",
              "  </thead>\n",
              "  <tbody>\n",
              "    <tr>\n",
              "      <th>0</th>\n",
              "      <td>High income</td>\n",
              "      <td>OWID_HIC</td>\n",
              "      <td>2021-06-15</td>\n",
              "      <td>8.595552e+08</td>\n",
              "      <td>521539167.0</td>\n",
              "      <td>332256679.0</td>\n",
              "      <td>4976681.0</td>\n",
              "      <td>7699904.0</td>\n",
              "      <td>68.05</td>\n",
              "      <td>41.29</td>\n",
              "      <td>26.31</td>\n",
              "      <td>6096.0</td>\n",
              "    </tr>\n",
              "    <tr>\n",
              "      <th>1</th>\n",
              "      <td>Low income</td>\n",
              "      <td>OWID_LIC</td>\n",
              "      <td>2021-06-15</td>\n",
              "      <td>7.273403e+06</td>\n",
              "      <td>6522357.0</td>\n",
              "      <td>701819.0</td>\n",
              "      <td>34384.0</td>\n",
              "      <td>63424.0</td>\n",
              "      <td>0.94</td>\n",
              "      <td>0.84</td>\n",
              "      <td>0.09</td>\n",
              "      <td>82.0</td>\n",
              "    </tr>\n",
              "    <tr>\n",
              "      <th>2</th>\n",
              "      <td>Lower middle income</td>\n",
              "      <td>OWID_LMC</td>\n",
              "      <td>2021-06-15</td>\n",
              "      <td>3.490264e+08</td>\n",
              "      <td>272196746.0</td>\n",
              "      <td>75230408.0</td>\n",
              "      <td>3864075.0</td>\n",
              "      <td>4423423.0</td>\n",
              "      <td>11.27</td>\n",
              "      <td>8.79</td>\n",
              "      <td>2.43</td>\n",
              "      <td>1428.0</td>\n",
              "    </tr>\n",
              "    <tr>\n",
              "      <th>3</th>\n",
              "      <td>Upper middle income</td>\n",
              "      <td>OWID_UMC</td>\n",
              "      <td>2021-06-15</td>\n",
              "      <td>1.238189e+09</td>\n",
              "      <td>832206789.0</td>\n",
              "      <td>329377832.0</td>\n",
              "      <td>24329421.0</td>\n",
              "      <td>21026968.0</td>\n",
              "      <td>46.64</td>\n",
              "      <td>31.35</td>\n",
              "      <td>12.41</td>\n",
              "      <td>7920.0</td>\n",
              "    </tr>\n",
              "  </tbody>\n",
              "</table>\n",
              "</div>"
            ],
            "text/plain": [
              "              location  ... daily_vaccinations_per_million\n",
              "0          High income  ...                         6096.0\n",
              "1           Low income  ...                           82.0\n",
              "2  Lower middle income  ...                         1428.0\n",
              "3  Upper middle income  ...                         7920.0\n",
              "\n",
              "[4 rows x 12 columns]"
            ]
          },
          "metadata": {
            "tags": []
          },
          "execution_count": 81
        }
      ]
    },
    {
      "cell_type": "code",
      "metadata": {
        "colab": {
          "base_uri": "https://localhost:8080/",
          "height": 295
        },
        "id": "knMELeoC6kN4",
        "outputId": "d30a2ffe-de43-4700-b715-96068f4eaf6a"
      },
      "source": [
        "#Our 4 dataframes are now ready for export\n",
        "vaccines.head()\n",
        "vaccinations.head()\n",
        "vaccinations_by_region.head()\n",
        "income_groups.head()"
      ],
      "execution_count": 82,
      "outputs": [
        {
          "output_type": "execute_result",
          "data": {
            "text/html": [
              "<div>\n",
              "<style scoped>\n",
              "    .dataframe tbody tr th:only-of-type {\n",
              "        vertical-align: middle;\n",
              "    }\n",
              "\n",
              "    .dataframe tbody tr th {\n",
              "        vertical-align: top;\n",
              "    }\n",
              "\n",
              "    .dataframe thead th {\n",
              "        text-align: right;\n",
              "    }\n",
              "</style>\n",
              "<table border=\"1\" class=\"dataframe\">\n",
              "  <thead>\n",
              "    <tr style=\"text-align: right;\">\n",
              "      <th></th>\n",
              "      <th>location</th>\n",
              "      <th>iso_code</th>\n",
              "      <th>date</th>\n",
              "      <th>total_vaccinations</th>\n",
              "      <th>people_vaccinated</th>\n",
              "      <th>people_fully_vaccinated</th>\n",
              "      <th>daily_vaccinations_raw</th>\n",
              "      <th>daily_vaccinations</th>\n",
              "      <th>total_vaccinations_per_hundred</th>\n",
              "      <th>people_vaccinated_per_hundred</th>\n",
              "      <th>people_fully_vaccinated_per_hundred</th>\n",
              "      <th>daily_vaccinations_per_million</th>\n",
              "    </tr>\n",
              "  </thead>\n",
              "  <tbody>\n",
              "    <tr>\n",
              "      <th>0</th>\n",
              "      <td>High income</td>\n",
              "      <td>OWID_HIC</td>\n",
              "      <td>2021-06-15</td>\n",
              "      <td>8.595552e+08</td>\n",
              "      <td>521539167.0</td>\n",
              "      <td>332256679.0</td>\n",
              "      <td>4976681.0</td>\n",
              "      <td>7699904.0</td>\n",
              "      <td>68.05</td>\n",
              "      <td>41.29</td>\n",
              "      <td>26.31</td>\n",
              "      <td>6096.0</td>\n",
              "    </tr>\n",
              "    <tr>\n",
              "      <th>1</th>\n",
              "      <td>Low income</td>\n",
              "      <td>OWID_LIC</td>\n",
              "      <td>2021-06-15</td>\n",
              "      <td>7.273403e+06</td>\n",
              "      <td>6522357.0</td>\n",
              "      <td>701819.0</td>\n",
              "      <td>34384.0</td>\n",
              "      <td>63424.0</td>\n",
              "      <td>0.94</td>\n",
              "      <td>0.84</td>\n",
              "      <td>0.09</td>\n",
              "      <td>82.0</td>\n",
              "    </tr>\n",
              "    <tr>\n",
              "      <th>2</th>\n",
              "      <td>Lower middle income</td>\n",
              "      <td>OWID_LMC</td>\n",
              "      <td>2021-06-15</td>\n",
              "      <td>3.490264e+08</td>\n",
              "      <td>272196746.0</td>\n",
              "      <td>75230408.0</td>\n",
              "      <td>3864075.0</td>\n",
              "      <td>4423423.0</td>\n",
              "      <td>11.27</td>\n",
              "      <td>8.79</td>\n",
              "      <td>2.43</td>\n",
              "      <td>1428.0</td>\n",
              "    </tr>\n",
              "    <tr>\n",
              "      <th>3</th>\n",
              "      <td>Upper middle income</td>\n",
              "      <td>OWID_UMC</td>\n",
              "      <td>2021-06-15</td>\n",
              "      <td>1.238189e+09</td>\n",
              "      <td>832206789.0</td>\n",
              "      <td>329377832.0</td>\n",
              "      <td>24329421.0</td>\n",
              "      <td>21026968.0</td>\n",
              "      <td>46.64</td>\n",
              "      <td>31.35</td>\n",
              "      <td>12.41</td>\n",
              "      <td>7920.0</td>\n",
              "    </tr>\n",
              "  </tbody>\n",
              "</table>\n",
              "</div>"
            ],
            "text/plain": [
              "              location  ... daily_vaccinations_per_million\n",
              "0          High income  ...                         6096.0\n",
              "1           Low income  ...                           82.0\n",
              "2  Lower middle income  ...                         1428.0\n",
              "3  Upper middle income  ...                         7920.0\n",
              "\n",
              "[4 rows x 12 columns]"
            ]
          },
          "metadata": {
            "tags": []
          },
          "execution_count": 82
        }
      ]
    },
    {
      "cell_type": "markdown",
      "metadata": {
        "id": "ZGV6bv_JDQAK"
      },
      "source": [
        ""
      ]
    },
    {
      "cell_type": "code",
      "metadata": {
        "id": "iBPXmf2p9m-4"
      },
      "source": [
        "#from google.colab import files\n",
        "#vaccines.to_csv('vaccines.csv') \n",
        "#files.download('vaccines.csv')"
      ],
      "execution_count": 83,
      "outputs": []
    },
    {
      "cell_type": "code",
      "metadata": {
        "id": "7p-wA2LK-1ra"
      },
      "source": [
        "#from google.colab import files\n",
        "#vaccinations.to_csv('vaccinations.csv') \n",
        "#files.download('vaccinations.csv')"
      ],
      "execution_count": 84,
      "outputs": []
    },
    {
      "cell_type": "code",
      "metadata": {
        "id": "qIta7JSf_Axp"
      },
      "source": [
        "#from google.colab import files\n",
        "#vaccinations_by_region.to_csv('vaccinations_by_region.csv') \n",
        "#files.download('vaccinations_by_region.csv')"
      ],
      "execution_count": 85,
      "outputs": []
    },
    {
      "cell_type": "code",
      "metadata": {
        "id": "3DV68hXW_OVE"
      },
      "source": [
        "#from google.colab import files\n",
        "#income_groups.to_csv('income_groups.csv') \n",
        "#files.download('income_groups.csv')"
      ],
      "execution_count": 86,
      "outputs": []
    },
    {
      "cell_type": "code",
      "metadata": {
        "colab": {
          "base_uri": "https://localhost:8080/",
          "height": 17
        },
        "id": "1_ackhm8_WYV",
        "outputId": "3be70a0b-8210-4744-eb08-4ea91e117f65"
      },
      "source": [
        "#from google.colab import files\n",
        "#world.to_csv('world.csv')\n",
        "#files.download('world.csv')"
      ],
      "execution_count": 87,
      "outputs": [
        {
          "output_type": "display_data",
          "data": {
            "application/javascript": [
              "\n",
              "    async function download(id, filename, size) {\n",
              "      if (!google.colab.kernel.accessAllowed) {\n",
              "        return;\n",
              "      }\n",
              "      const div = document.createElement('div');\n",
              "      const label = document.createElement('label');\n",
              "      label.textContent = `Downloading \"${filename}\": `;\n",
              "      div.appendChild(label);\n",
              "      const progress = document.createElement('progress');\n",
              "      progress.max = size;\n",
              "      div.appendChild(progress);\n",
              "      document.body.appendChild(div);\n",
              "\n",
              "      const buffers = [];\n",
              "      let downloaded = 0;\n",
              "\n",
              "      const channel = await google.colab.kernel.comms.open(id);\n",
              "      // Send a message to notify the kernel that we're ready.\n",
              "      channel.send({})\n",
              "\n",
              "      for await (const message of channel.messages) {\n",
              "        // Send a message to notify the kernel that we're ready.\n",
              "        channel.send({})\n",
              "        if (message.buffers) {\n",
              "          for (const buffer of message.buffers) {\n",
              "            buffers.push(buffer);\n",
              "            downloaded += buffer.byteLength;\n",
              "            progress.value = downloaded;\n",
              "          }\n",
              "        }\n",
              "      }\n",
              "      const blob = new Blob(buffers, {type: 'application/binary'});\n",
              "      const a = document.createElement('a');\n",
              "      a.href = window.URL.createObjectURL(blob);\n",
              "      a.download = filename;\n",
              "      div.appendChild(a);\n",
              "      a.click();\n",
              "      div.remove();\n",
              "    }\n",
              "  "
            ],
            "text/plain": [
              "<IPython.core.display.Javascript object>"
            ]
          },
          "metadata": {
            "tags": []
          }
        },
        {
          "output_type": "display_data",
          "data": {
            "application/javascript": [
              "download(\"download_73ff1765-2b28-42f6-969a-b66fc26137bf\", \"world.csv\", 20807)"
            ],
            "text/plain": [
              "<IPython.core.display.Javascript object>"
            ]
          },
          "metadata": {
            "tags": []
          }
        }
      ]
    },
    {
      "cell_type": "code",
      "metadata": {
        "id": "1lpco_EC-Vyp"
      },
      "source": [
        ""
      ],
      "execution_count": null,
      "outputs": []
    },
    {
      "cell_type": "code",
      "metadata": {
        "id": "HJH5ilo0V3pS"
      },
      "source": [
        ""
      ],
      "execution_count": null,
      "outputs": []
    }
  ]
}